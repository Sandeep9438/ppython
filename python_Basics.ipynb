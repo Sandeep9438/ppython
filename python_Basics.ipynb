{
  "cells": [
    {
      "cell_type": "code",
      "execution_count": null,
      "metadata": {
        "id": "5K00J1_MPYtr"
      },
      "outputs": [],
      "source": [
        "# 1. What is python, and why is it popular ?\n",
        "# Python is a high level, interpreted programming language known for its simplicity and readability.\n",
        "# It is popular because of :\n",
        "#  - widely used in the industry\n",
        "#  - it has large community and vast libraries\n",
        "#  - it supports multiple programming paradigms"
      ]
    },
    {
      "cell_type": "code",
      "execution_count": null,
      "metadata": {
        "id": "QOT6KUJ1RmDi"
      },
      "outputs": [],
      "source": [
        "# 2. What is interpreter in python ?\n",
        "# An interpreter in python is a program that reads and executes python code line by line."
      ]
    },
    {
      "cell_type": "code",
      "execution_count": null,
      "metadata": {
        "colab": {
          "base_uri": "https://localhost:8080/",
          "height": 53
        },
        "collapsed": true,
        "id": "cMKWuTQ4RmQB",
        "outputId": "4bf0f3f1-6f6a-43b8-d699-a6d18ff7e74d"
      },
      "outputs": [
        {
          "data": {
            "application/vnd.google.colaboratory.intrinsic+json": {
              "type": "string"
            },
            "text/plain": [
              "'\\n  Predefined keywords in Python are reserved words that have special meaning.\\n  They are used to define the syntax and structure of the Python language.\\n  Examples : if, else, for, while, def, true, flase, return etc. \\n'"
            ]
          },
          "execution_count": 3,
          "metadata": {},
          "output_type": "execute_result"
        }
      ],
      "source": [
        "# 3. What are pre-defined keywords in python ?\n",
        "'''\n",
        "  Predefined keywords in Python are reserved words that have special meaning.\n",
        "  They are used to define the syntax and structure of the Python language.\n",
        "  Examples : if, else, for, while, def, true, flase, return, none, import, in, and, or etc.\n",
        "'''"
      ]
    },
    {
      "cell_type": "code",
      "execution_count": null,
      "metadata": {
        "id": "U3jJZAW9RmXp"
      },
      "outputs": [],
      "source": [
        "# 4. Can keywords be used as variable names ?\n",
        "'''\n",
        "  Python keywords cann't be used as variables names. These are reserved words used to defined the structure.\n",
        "  If we try to use a keyword as variable name, it will give a syntax error.\n",
        "  Example- 'If = 100' (it is invalid)\n",
        "'''"
      ]
    },
    {
      "cell_type": "code",
      "execution_count": null,
      "metadata": {
        "id": "EEfVqSAcRmaH"
      },
      "outputs": [],
      "source": [
        "# 5. What is mutability in python ?\n",
        "'''\n",
        "  Mutability refers to wheather a object can be changed after it is created.\n",
        "  Mutability object can be changed. Example- 'Lists'.\n",
        "'''"
      ]
    },
    {
      "cell_type": "code",
      "execution_count": null,
      "metadata": {
        "id": "BPx4qiMbRmcq"
      },
      "outputs": [],
      "source": [
        "# 6. Why are lists mutable, but tuples ae immutable ?\n",
        "'''\n",
        " Lists are mutable because they are able to used to store changing data.\n",
        " we can add, remove and modify in a lists.\n",
        " But tuples are immutable because we can't change add or remove the element once the tuple is created.\n",
        " If we try to modify a tuple, it will give an error.\n",
        "'''"
      ]
    },
    {
      "cell_type": "code",
      "execution_count": null,
      "metadata": {
        "id": "ETRbZdzORmfa"
      },
      "outputs": [],
      "source": [
        "# 7. What is the difference between \"==\" and \"is\" operators in python ?\n",
        "'''\n",
        "\"==\" checks if two variables have the same value.\n",
        "\"is\" checks if two variables refer to the same object in the memory.\n",
        "'''\n",
        "# a=[1,2,3]  b=[1,2,3]\n",
        "# a == b -> true (because of having equal values)\n",
        "# a is b -> false (because of having different objects)\n"
      ]
    },
    {
      "cell_type": "code",
      "execution_count": null,
      "metadata": {
        "id": "5thaLXzrRmiz"
      },
      "outputs": [],
      "source": [
        "# 8. What are logical operators in python ?\n",
        "'''\n",
        " Logical operators are used to combine conditional statements.\n",
        " In python, there are three logical operators: and, or, not.\n",
        "'''"
      ]
    },
    {
      "cell_type": "code",
      "execution_count": null,
      "metadata": {
        "id": "L5XBuXWtcgY-"
      },
      "outputs": [],
      "source": [
        "# 9. What is type casting in python ?\n",
        "'''\n",
        " The process of changing the data type of a value/object in a python is called type casting.\n",
        " There are two ways to do type casting:\n",
        " - (1) Implicit Type Casting, (2) Explicit Type Casting\n",
        "'''"
      ]
    },
    {
      "cell_type": "code",
      "execution_count": null,
      "metadata": {
        "id": "thSy9stweaT0"
      },
      "outputs": [],
      "source": [
        "# 10. What is the difference between implicit and explicit type casting ?\n",
        "'''\n",
        "  Implicit type casting - it is done automatically by the python interpreter.\n",
        "  Explicit type casting - it is done by the programmer manually.\n",
        "'''"
      ]
    },
    {
      "cell_type": "code",
      "execution_count": null,
      "metadata": {
        "id": "YCTn_U0ngMDK"
      },
      "outputs": [],
      "source": [
        "# 11. What is the purpose of conditional statements in python ?\n",
        "'''\n",
        "  Conditional statements are used to make decisions in a Python program.\n",
        "  The purpose of conditional statements in Python is to control the flow of the\n",
        "  program by executing certain code only when specific conditions are met.\n",
        "'''"
      ]
    },
    {
      "cell_type": "code",
      "execution_count": null,
      "metadata": {
        "id": "CfHyklmwh-Fs"
      },
      "outputs": [],
      "source": [
        "# 12. How does the elif statement work ?\n",
        "'''\n",
        " The \"Elif\" statement is short for \"else if\" and allows you to check multiple condition\n",
        " in sequence. It’s used when you need more than two conditions—if the first condition is\n",
        " false, elif will check the next one, executing the code for first true condition. If no\n",
        " condition is true else block runs.\n",
        "'''"
      ]
    },
    {
      "cell_type": "code",
      "execution_count": null,
      "metadata": {
        "id": "KQlaz9K4kdA8"
      },
      "outputs": [],
      "source": [
        "# 13. What is the difference between for and while loops ?\n",
        "'''\n",
        "  For loop is used when the number of iterations is known but While loop is used\n",
        "  when the number of iterations is not known and depends on a condition.\n",
        "  - For loop is use when you know how many times to repeat the loop.\n",
        "  - While loop is use when you want to repeat until a condition is true.\n",
        "'''"
      ]
    },
    {
      "cell_type": "code",
      "execution_count": null,
      "metadata": {
        "id": "i65jijEqnC9w"
      },
      "outputs": [],
      "source": [
        "# 14. Describe a scenario where a while loop is more suitable than a for loop ?\n",
        "'''\n",
        "  A while loop is better when you don’t know in advance how many times the loop\n",
        "  should run, it continues until a condition becomes false.\n",
        "'''\n"
      ]
    },
    {
      "cell_type": "markdown",
      "metadata": {
        "id": "9QENvVEc0ahC"
      },
      "source": [
        "# Python practical"
      ]
    },
    {
      "cell_type": "code",
      "execution_count": null,
      "metadata": {
        "colab": {
          "base_uri": "https://localhost:8080/"
        },
        "id": "Oe4TF53T01L2",
        "outputId": "004dc521-29c8-49e2-afb6-828705147d2a"
      },
      "outputs": [
        {
          "name": "stdout",
          "output_type": "stream",
          "text": [
            "Hello, World\n"
          ]
        }
      ],
      "source": [
        "# 1. Write a python program to print, \"Hello, World\"?\n",
        "print(\"Hello, World\")"
      ]
    },
    {
      "cell_type": "code",
      "execution_count": null,
      "metadata": {
        "colab": {
          "base_uri": "https://localhost:8080/"
        },
        "id": "w7o8TP733kCg",
        "outputId": "570ea214-fccd-430e-d4c4-eabb96c87fae"
      },
      "outputs": [
        {
          "name": "stdout",
          "output_type": "stream",
          "text": [
            "Enter your name: Rakesh jhunjhunwala\n",
            "Enter your age: 62\n",
            "My name is Rakesh jhunjhunwala\n",
            "I am 62 years old.\n"
          ]
        }
      ],
      "source": [
        "# 2. Write a python program that displays your name and age ?\n",
        "\n",
        "name = input(\"Enter your name: \")\n",
        "age = int(input(\"Enter your age: \"))\n",
        "print(\"My name is\", name,)\n",
        "print(\"I am\", age, \"years old.\")"
      ]
    },
    {
      "cell_type": "code",
      "execution_count": null,
      "metadata": {
        "colab": {
          "base_uri": "https://localhost:8080/"
        },
        "id": "nWVMGdjo9jBS",
        "outputId": "8a349094-0050-468a-a8ba-52a156d9b976"
      },
      "outputs": [
        {
          "name": "stdout",
          "output_type": "stream",
          "text": [
            "False\n",
            "None\n",
            "True\n",
            "and\n",
            "as\n",
            "assert\n",
            "async\n",
            "await\n",
            "break\n",
            "class\n",
            "continue\n",
            "def\n",
            "del\n",
            "elif\n",
            "else\n",
            "except\n",
            "finally\n",
            "for\n",
            "from\n",
            "global\n",
            "if\n",
            "import\n",
            "in\n",
            "is\n",
            "lambda\n",
            "nonlocal\n",
            "not\n",
            "or\n",
            "pass\n",
            "raise\n",
            "return\n",
            "try\n",
            "while\n",
            "with\n",
            "yield\n"
          ]
        }
      ],
      "source": [
        "# 3. Write code to print all the pre-defined keywords in python using the keyword library?\n",
        "\n",
        "import keyword\n",
        "for kw in keyword.kwlist:\n",
        "    print(kw)"
      ]
    },
    {
      "cell_type": "code",
      "execution_count": null,
      "metadata": {
        "id": "lyXuNjanh8h_",
        "colab": {
          "base_uri": "https://localhost:8080/"
        },
        "outputId": "208acc0a-3fce-4499-e541-8e9790ade43a"
      },
      "outputs": [
        {
          "output_type": "stream",
          "name": "stdout",
          "text": [
            "enter a word:if\n",
            "if is a python keyword.\n"
          ]
        }
      ],
      "source": [
        "# 4. Write a program that checks if a given word is a python keyword?\n",
        "\n",
        "import keyword\n",
        "word = input(\"enter a word:\")\n",
        "if keyword.iskeyword(word):\n",
        "  print(word, \"is a python keyword.\")\n",
        "else:\n",
        "  print(word, \"is not a python keyword\")"
      ]
    },
    {
      "cell_type": "code",
      "execution_count": null,
      "metadata": {
        "id": "BXew8zsKkOEp"
      },
      "outputs": [],
      "source": [
        "# 5. Creat a list and tuple in python, and demonstrate how attempting to change an element works differently for each ?"
      ]
    },
    {
      "cell_type": "code",
      "execution_count": null,
      "metadata": {
        "id": "0VJ04VZ07_vw"
      },
      "outputs": [],
      "source": [
        "# 6. Write a function to demonstrate the behaviour of mutable and immutable arguments ?"
      ]
    },
    {
      "cell_type": "code",
      "execution_count": null,
      "metadata": {
        "id": "TaJPZ_eJ7_y4"
      },
      "outputs": [],
      "source": [
        "# 7. Write a program that performs basic arithmetic operations on two user-input numbers?"
      ]
    },
    {
      "cell_type": "code",
      "execution_count": null,
      "metadata": {
        "id": "YS7VJygo7_2X",
        "colab": {
          "base_uri": "https://localhost:8080/"
        },
        "outputId": "ada04e06-b4a4-4bd8-8c9b-30c2bd85b130"
      },
      "outputs": [
        {
          "output_type": "stream",
          "name": "stdout",
          "text": [
            "a > 5 and b > 3: True\n",
            "a > 5 or b > 3: True\n",
            "not(a > 5): False\n"
          ]
        }
      ],
      "source": [
        "# 8. Write a program to demonstrate the use of logical operators ?\n",
        "\n",
        "a = 10\n",
        "b = 5\n",
        "print(\"a > 5 and b > 3:\", a > 5 and b > 3) #And\n",
        "print(\"a > 5 or b > 3:\", a > 5 or b > 3) #Or\n",
        "print(\"not(a > 5):\", not(a > 5)) #Not"
      ]
    },
    {
      "cell_type": "code",
      "execution_count": null,
      "metadata": {
        "id": "btnQLqzu9JcB",
        "colab": {
          "base_uri": "https://localhost:8080/"
        },
        "outputId": "fc6ea019-c920-4bb6-fffe-a0685ba63044"
      },
      "outputs": [
        {
          "name": "stdout",
          "output_type": "stream",
          "text": [
            "Enter a value: 100\n"
          ]
        }
      ],
      "source": [
        "# 9. Write a python program to convert user input from string to integer, float, and boolean types?\n",
        "\n",
        "user_input = input(\"Enter a value: \")\n",
        "integer_value = int(user_input)\n",
        "float_value = float(user_input)\n",
        "boolean_value = bool(user_input)"
      ]
    },
    {
      "cell_type": "code",
      "execution_count": null,
      "metadata": {
        "id": "2glNM6wU9l0X"
      },
      "outputs": [],
      "source": [
        "# 10. Write code to demonstrate type casting with list elements?"
      ]
    },
    {
      "cell_type": "code",
      "execution_count": null,
      "metadata": {
        "colab": {
          "background_save": true,
          "base_uri": "https://localhost:8080/",
          "height": 106
        },
        "id": "X8A2esCF9l-x",
        "outputId": "0f9b3556-8a6c-4162-e680-01a10b9944e5"
      },
      "outputs": [
        {
          "name": "stdout",
          "output_type": "stream",
          "text": [
            "The number is positive\n"
          ]
        }
      ],
      "source": [
        "# 11. Write a program that checks if a number is positive, negative or zero?\n",
        "\n",
        "num = float(input(\"Enter a number:\"))\n",
        "if num > 0:\n",
        "    print(\"The number is positive\")\n",
        "elif num < 0:\n",
        "    print(\"The number is negative\")\n",
        "else:\n",
        "    print(\"The number is zero\")"
      ]
    },
    {
      "cell_type": "code",
      "execution_count": null,
      "metadata": {
        "colab": {
          "base_uri": "https://localhost:8080/"
        },
        "id": "pWjf2_Ww_QSE",
        "outputId": "deecdc34-e169-4ab3-9d90-bff9d0fb429e"
      },
      "outputs": [
        {
          "name": "stdout",
          "output_type": "stream",
          "text": [
            "1\n",
            "2\n",
            "3\n",
            "4\n",
            "5\n",
            "6\n",
            "7\n",
            "8\n",
            "9\n",
            "10\n"
          ]
        }
      ],
      "source": [
        "# 12. Write a for loop to print numbers from 1 to 10?\n",
        "for i in range(1, 11):\n",
        "    print(i)"
      ]
    },
    {
      "cell_type": "code",
      "execution_count": null,
      "metadata": {
        "colab": {
          "base_uri": "https://localhost:8080/"
        },
        "id": "FygC9jvB_sps",
        "outputId": "a81aadf4-b3ff-4efe-bf1b-acdc4add94b5"
      },
      "outputs": [
        {
          "output_type": "stream",
          "name": "stdout",
          "text": [
            "650\n"
          ]
        }
      ],
      "source": [
        "# 13. Write a python program to find the sum of all even numbers between 1 to 50?\n",
        "sum = 0\n",
        "for i in range(1, 51):\n",
        "    if i % 2 == 0:\n",
        "        sum += i\n",
        "print(sum)"
      ]
    },
    {
      "cell_type": "code",
      "execution_count": null,
      "metadata": {
        "id": "db5WrflX_sxj"
      },
      "outputs": [],
      "source": [
        "# 14. Write a program to reverse a string using a while loop?"
      ]
    },
    {
      "cell_type": "code",
      "execution_count": null,
      "metadata": {
        "id": "wzgw98pBAaJJ",
        "colab": {
          "base_uri": "https://localhost:8080/"
        },
        "outputId": "78eb5f58-2704-41c5-a5d7-49855d55646b"
      },
      "outputs": [
        {
          "output_type": "stream",
          "name": "stdout",
          "text": [
            "Enter a number: 10\n",
            "factorial= 10\n"
          ]
        }
      ],
      "source": [
        "# 15. Write a python program to calculate the factorial of a number provided by the user using a while loop?\n",
        "\n",
        "n = int(input(\"Enter a number: \"))\n",
        "factorial = 1\n",
        "i = 1\n",
        "while i <= n:\n",
        "    factorial *= i\n",
        "    i += 1\n",
        "print(\"factorial=\",n)"
      ]
    }
  ],
  "metadata": {
    "colab": {
      "provenance": []
    },
    "kernelspec": {
      "display_name": "Python 3",
      "name": "python3"
    },
    "language_info": {
      "name": "python"
    }
  },
  "nbformat": 4,
  "nbformat_minor": 0
}